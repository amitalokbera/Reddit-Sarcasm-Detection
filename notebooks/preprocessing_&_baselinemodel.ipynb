{
 "cells": [
  {
   "cell_type": "code",
   "execution_count": 1,
   "metadata": {},
   "outputs": [],
   "source": [
    "import pandas as pd \n",
    "import numpy as np\n",
    "import matplotlib.pyplot as plt\n",
    "from sklearn.model_selection import train_test_split\n",
    "import tensorflow as tf\n",
    "from tqdm import tqdm\n",
    "import contractions\n",
    "import re\n",
    "from tensorflow.keras.layers import Input, Embedding, Bidirectional, LSTM, Dense, Dropout\n",
    "from tensorflow.keras.models import Model"
   ]
  },
  {
   "cell_type": "code",
   "execution_count": 2,
   "metadata": {},
   "outputs": [
    {
     "data": {
      "text/plain": [
       "(1010826, 10)"
      ]
     },
     "execution_count": 2,
     "metadata": {},
     "output_type": "execute_result"
    }
   ],
   "source": [
    "df = pd.read_csv('..\\\\dataset\\\\train-balanced-sarcasm.csv')\n",
    "df.shape"
   ]
  },
  {
   "cell_type": "code",
   "execution_count": 3,
   "metadata": {},
   "outputs": [
    {
     "data": {
      "text/html": [
       "<div>\n",
       "<style scoped>\n",
       "    .dataframe tbody tr th:only-of-type {\n",
       "        vertical-align: middle;\n",
       "    }\n",
       "\n",
       "    .dataframe tbody tr th {\n",
       "        vertical-align: top;\n",
       "    }\n",
       "\n",
       "    .dataframe thead th {\n",
       "        text-align: right;\n",
       "    }\n",
       "</style>\n",
       "<table border=\"1\" class=\"dataframe\">\n",
       "  <thead>\n",
       "    <tr style=\"text-align: right;\">\n",
       "      <th></th>\n",
       "      <th>label</th>\n",
       "      <th>comment</th>\n",
       "      <th>author</th>\n",
       "      <th>subreddit</th>\n",
       "      <th>score</th>\n",
       "      <th>ups</th>\n",
       "      <th>downs</th>\n",
       "      <th>date</th>\n",
       "      <th>created_utc</th>\n",
       "      <th>parent_comment</th>\n",
       "    </tr>\n",
       "  </thead>\n",
       "  <tbody>\n",
       "    <tr>\n",
       "      <th>0</th>\n",
       "      <td>0</td>\n",
       "      <td>NC and NH.</td>\n",
       "      <td>Trumpbart</td>\n",
       "      <td>politics</td>\n",
       "      <td>2</td>\n",
       "      <td>-1</td>\n",
       "      <td>-1</td>\n",
       "      <td>2016-10</td>\n",
       "      <td>2016-10-16 23:55:23</td>\n",
       "      <td>Yeah, I get that argument. At this point, I'd ...</td>\n",
       "    </tr>\n",
       "    <tr>\n",
       "      <th>1</th>\n",
       "      <td>0</td>\n",
       "      <td>You do know west teams play against west teams...</td>\n",
       "      <td>Shbshb906</td>\n",
       "      <td>nba</td>\n",
       "      <td>-4</td>\n",
       "      <td>-1</td>\n",
       "      <td>-1</td>\n",
       "      <td>2016-11</td>\n",
       "      <td>2016-11-01 00:24:10</td>\n",
       "      <td>The blazers and Mavericks (The wests 5 and 6 s...</td>\n",
       "    </tr>\n",
       "    <tr>\n",
       "      <th>2</th>\n",
       "      <td>0</td>\n",
       "      <td>They were underdogs earlier today, but since G...</td>\n",
       "      <td>Creepeth</td>\n",
       "      <td>nfl</td>\n",
       "      <td>3</td>\n",
       "      <td>3</td>\n",
       "      <td>0</td>\n",
       "      <td>2016-09</td>\n",
       "      <td>2016-09-22 21:45:37</td>\n",
       "      <td>They're favored to win.</td>\n",
       "    </tr>\n",
       "    <tr>\n",
       "      <th>3</th>\n",
       "      <td>0</td>\n",
       "      <td>This meme isn't funny none of the \"new york ni...</td>\n",
       "      <td>icebrotha</td>\n",
       "      <td>BlackPeopleTwitter</td>\n",
       "      <td>-8</td>\n",
       "      <td>-1</td>\n",
       "      <td>-1</td>\n",
       "      <td>2016-10</td>\n",
       "      <td>2016-10-18 21:03:47</td>\n",
       "      <td>deadass don't kill my buzz</td>\n",
       "    </tr>\n",
       "    <tr>\n",
       "      <th>4</th>\n",
       "      <td>0</td>\n",
       "      <td>I could use one of those tools.</td>\n",
       "      <td>cush2push</td>\n",
       "      <td>MaddenUltimateTeam</td>\n",
       "      <td>6</td>\n",
       "      <td>-1</td>\n",
       "      <td>-1</td>\n",
       "      <td>2016-12</td>\n",
       "      <td>2016-12-30 17:00:13</td>\n",
       "      <td>Yep can confirm I saw the tool they use for th...</td>\n",
       "    </tr>\n",
       "  </tbody>\n",
       "</table>\n",
       "</div>"
      ],
      "text/plain": [
       "   label                                            comment     author  \\\n",
       "0      0                                         NC and NH.  Trumpbart   \n",
       "1      0  You do know west teams play against west teams...  Shbshb906   \n",
       "2      0  They were underdogs earlier today, but since G...   Creepeth   \n",
       "3      0  This meme isn't funny none of the \"new york ni...  icebrotha   \n",
       "4      0                    I could use one of those tools.  cush2push   \n",
       "\n",
       "            subreddit  score  ups  downs     date          created_utc  \\\n",
       "0            politics      2   -1     -1  2016-10  2016-10-16 23:55:23   \n",
       "1                 nba     -4   -1     -1  2016-11  2016-11-01 00:24:10   \n",
       "2                 nfl      3    3      0  2016-09  2016-09-22 21:45:37   \n",
       "3  BlackPeopleTwitter     -8   -1     -1  2016-10  2016-10-18 21:03:47   \n",
       "4  MaddenUltimateTeam      6   -1     -1  2016-12  2016-12-30 17:00:13   \n",
       "\n",
       "                                      parent_comment  \n",
       "0  Yeah, I get that argument. At this point, I'd ...  \n",
       "1  The blazers and Mavericks (The wests 5 and 6 s...  \n",
       "2                            They're favored to win.  \n",
       "3                         deadass don't kill my buzz  \n",
       "4  Yep can confirm I saw the tool they use for th...  "
      ]
     },
     "execution_count": 3,
     "metadata": {},
     "output_type": "execute_result"
    }
   ],
   "source": [
    "df.head()"
   ]
  },
  {
   "cell_type": "code",
   "execution_count": 4,
   "metadata": {},
   "outputs": [],
   "source": [
    "#sort by createdd date \n",
    "df.sort_values(by='created_utc', inplace=True)\n",
    "df.reset_index(drop=True, inplace=True)"
   ]
  },
  {
   "cell_type": "markdown",
   "metadata": {},
   "source": [
    "Here I am sorting the dataset by created_utc, as some topics which are consider non-sarcastic today might be consider sarcastic later"
   ]
  },
  {
   "cell_type": "code",
   "execution_count": 5,
   "metadata": {},
   "outputs": [
    {
     "data": {
      "text/html": [
       "<div>\n",
       "<style scoped>\n",
       "    .dataframe tbody tr th:only-of-type {\n",
       "        vertical-align: middle;\n",
       "    }\n",
       "\n",
       "    .dataframe tbody tr th {\n",
       "        vertical-align: top;\n",
       "    }\n",
       "\n",
       "    .dataframe thead th {\n",
       "        text-align: right;\n",
       "    }\n",
       "</style>\n",
       "<table border=\"1\" class=\"dataframe\">\n",
       "  <thead>\n",
       "    <tr style=\"text-align: right;\">\n",
       "      <th></th>\n",
       "      <th>label</th>\n",
       "      <th>comment</th>\n",
       "      <th>author</th>\n",
       "      <th>subreddit</th>\n",
       "      <th>score</th>\n",
       "      <th>ups</th>\n",
       "      <th>downs</th>\n",
       "      <th>date</th>\n",
       "      <th>created_utc</th>\n",
       "      <th>parent_comment</th>\n",
       "    </tr>\n",
       "  </thead>\n",
       "  <tbody>\n",
       "    <tr>\n",
       "      <th>0</th>\n",
       "      <td>0</td>\n",
       "      <td>Rhetorical rheddit</td>\n",
       "      <td>veritaze</td>\n",
       "      <td>Marijuana</td>\n",
       "      <td>4</td>\n",
       "      <td>4</td>\n",
       "      <td>0</td>\n",
       "      <td>2009-01</td>\n",
       "      <td>2009-01-01 23:08:43</td>\n",
       "      <td>Why does the US Government support the use of ...</td>\n",
       "    </tr>\n",
       "    <tr>\n",
       "      <th>1</th>\n",
       "      <td>0</td>\n",
       "      <td>I was dreaming that I was a Snuffleupagus!</td>\n",
       "      <td>SleepingSheeple</td>\n",
       "      <td>WTF</td>\n",
       "      <td>3</td>\n",
       "      <td>3</td>\n",
       "      <td>0</td>\n",
       "      <td>2009-01</td>\n",
       "      <td>2009-01-01 23:50:50</td>\n",
       "      <td>And how much taxpayer money went into the Cook...</td>\n",
       "    </tr>\n",
       "    <tr>\n",
       "      <th>2</th>\n",
       "      <td>1</td>\n",
       "      <td>Obviously the most well-informed and unbiased ...</td>\n",
       "      <td>Tucci</td>\n",
       "      <td>reddit.com</td>\n",
       "      <td>0</td>\n",
       "      <td>0</td>\n",
       "      <td>0</td>\n",
       "      <td>2009-01</td>\n",
       "      <td>2009-01-02 07:03:22</td>\n",
       "      <td>FTA: Ephraim Sneh, a former member of the Isra...</td>\n",
       "    </tr>\n",
       "    <tr>\n",
       "      <th>3</th>\n",
       "      <td>1</td>\n",
       "      <td>Yes..wikipedia will teach it to you.</td>\n",
       "      <td>Kelevra</td>\n",
       "      <td>worldnews</td>\n",
       "      <td>7</td>\n",
       "      <td>7</td>\n",
       "      <td>0</td>\n",
       "      <td>2009-01</td>\n",
       "      <td>2009-01-02 07:28:56</td>\n",
       "      <td>Some redditors need to read the History of the...</td>\n",
       "    </tr>\n",
       "    <tr>\n",
       "      <th>4</th>\n",
       "      <td>0</td>\n",
       "      <td>Cheese.</td>\n",
       "      <td>McCourt</td>\n",
       "      <td>Art</td>\n",
       "      <td>2</td>\n",
       "      <td>2</td>\n",
       "      <td>0</td>\n",
       "      <td>2009-01</td>\n",
       "      <td>2009-01-02 15:28:00</td>\n",
       "      <td>Abstract beauty</td>\n",
       "    </tr>\n",
       "  </tbody>\n",
       "</table>\n",
       "</div>"
      ],
      "text/plain": [
       "   label                                            comment           author  \\\n",
       "0      0                                 Rhetorical rheddit         veritaze   \n",
       "1      0         I was dreaming that I was a Snuffleupagus!  SleepingSheeple   \n",
       "2      1  Obviously the most well-informed and unbiased ...            Tucci   \n",
       "3      1               Yes..wikipedia will teach it to you.          Kelevra   \n",
       "4      0                                            Cheese.          McCourt   \n",
       "\n",
       "    subreddit  score  ups  downs     date          created_utc  \\\n",
       "0   Marijuana      4    4      0  2009-01  2009-01-01 23:08:43   \n",
       "1         WTF      3    3      0  2009-01  2009-01-01 23:50:50   \n",
       "2  reddit.com      0    0      0  2009-01  2009-01-02 07:03:22   \n",
       "3   worldnews      7    7      0  2009-01  2009-01-02 07:28:56   \n",
       "4         Art      2    2      0  2009-01  2009-01-02 15:28:00   \n",
       "\n",
       "                                      parent_comment  \n",
       "0  Why does the US Government support the use of ...  \n",
       "1  And how much taxpayer money went into the Cook...  \n",
       "2  FTA: Ephraim Sneh, a former member of the Isra...  \n",
       "3  Some redditors need to read the History of the...  \n",
       "4                                    Abstract beauty  "
      ]
     },
     "execution_count": 5,
     "metadata": {},
     "output_type": "execute_result"
    }
   ],
   "source": [
    "df.head()"
   ]
  },
  {
   "cell_type": "code",
   "execution_count": 6,
   "metadata": {},
   "outputs": [],
   "source": [
    "#dropping nan values \n",
    "df.dropna(inplace=True)"
   ]
  },
  {
   "cell_type": "code",
   "execution_count": 7,
   "metadata": {},
   "outputs": [
    {
     "data": {
      "text/plain": [
       "((727756, 10), (80862, 10), (202155, 10))"
      ]
     },
     "execution_count": 7,
     "metadata": {},
     "output_type": "execute_result"
    }
   ],
   "source": [
    "X_train, X_test = train_test_split(df, test_size=0.2, random_state=42, shuffle=True, stratify=df['label'])\n",
    "X_train, X_val = train_test_split(X_train, test_size=0.1, random_state=42, shuffle=True, stratify=X_train['label'])\n",
    "X_train.shape, X_val.shape, X_test.shape"
   ]
  },
  {
   "cell_type": "code",
   "execution_count": 8,
   "metadata": {},
   "outputs": [],
   "source": [
    "#coverting string to lowercase \n",
    "def string_lower(x):\n",
    "    for i in ['comment','author','subreddit','parent_comment']:\n",
    "        x[i] = x[i].str.lower()\n",
    "    return x\n",
    "\n",
    "X_train = string_lower(X_train)\n",
    "X_val = string_lower(X_val)\n",
    "X_test = string_lower(X_test)"
   ]
  },
  {
   "cell_type": "code",
   "execution_count": 9,
   "metadata": {},
   "outputs": [
    {
     "data": {
      "text/html": [
       "<div>\n",
       "<style scoped>\n",
       "    .dataframe tbody tr th:only-of-type {\n",
       "        vertical-align: middle;\n",
       "    }\n",
       "\n",
       "    .dataframe tbody tr th {\n",
       "        vertical-align: top;\n",
       "    }\n",
       "\n",
       "    .dataframe thead th {\n",
       "        text-align: right;\n",
       "    }\n",
       "</style>\n",
       "<table border=\"1\" class=\"dataframe\">\n",
       "  <thead>\n",
       "    <tr style=\"text-align: right;\">\n",
       "      <th></th>\n",
       "      <th>label</th>\n",
       "      <th>comment</th>\n",
       "      <th>author</th>\n",
       "      <th>subreddit</th>\n",
       "      <th>score</th>\n",
       "      <th>ups</th>\n",
       "      <th>downs</th>\n",
       "      <th>date</th>\n",
       "      <th>created_utc</th>\n",
       "      <th>parent_comment</th>\n",
       "    </tr>\n",
       "  </thead>\n",
       "  <tbody>\n",
       "    <tr>\n",
       "      <th>34831</th>\n",
       "      <td>0</td>\n",
       "      <td>it may be taken from ian dury's \"spasticus aut...</td>\n",
       "      <td>vladtheimpala</td>\n",
       "      <td>britishtv</td>\n",
       "      <td>5</td>\n",
       "      <td>5</td>\n",
       "      <td>0</td>\n",
       "      <td>2012-08</td>\n",
       "      <td>2012-08-22 01:41:48</td>\n",
       "      <td>yeah i just tried to forget about the name. al...</td>\n",
       "    </tr>\n",
       "    <tr>\n",
       "      <th>198489</th>\n",
       "      <td>0</td>\n",
       "      <td>raiper running attack, i would restore it to i...</td>\n",
       "      <td>joelxivi</td>\n",
       "      <td>darksouls2</td>\n",
       "      <td>5</td>\n",
       "      <td>5</td>\n",
       "      <td>0</td>\n",
       "      <td>2014-09</td>\n",
       "      <td>2014-09-21 20:15:12</td>\n",
       "      <td>if you could change a single move of a weapon'...</td>\n",
       "    </tr>\n",
       "    <tr>\n",
       "      <th>273022</th>\n",
       "      <td>0</td>\n",
       "      <td>why do you have such an expensive aug skin, bu...</td>\n",
       "      <td>glassofgum</td>\n",
       "      <td>globaloffensive</td>\n",
       "      <td>1</td>\n",
       "      <td>1</td>\n",
       "      <td>0</td>\n",
       "      <td>2015-02</td>\n",
       "      <td>2015-02-09 20:34:32</td>\n",
       "      <td>cheap skins that look nice? i am new to counte...</td>\n",
       "    </tr>\n",
       "    <tr>\n",
       "      <th>93500</th>\n",
       "      <td>1</td>\n",
       "      <td>well that's ok, because we know for a fact tha...</td>\n",
       "      <td>rassimoflom</td>\n",
       "      <td>unitedkingdom</td>\n",
       "      <td>2</td>\n",
       "      <td>2</td>\n",
       "      <td>0</td>\n",
       "      <td>2013-10</td>\n",
       "      <td>2013-10-14 16:19:15</td>\n",
       "      <td>police chiefs will be able to be directly recr...</td>\n",
       "    </tr>\n",
       "    <tr>\n",
       "      <th>350017</th>\n",
       "      <td>1</td>\n",
       "      <td>yeah, more climate change deniers in congress ...</td>\n",
       "      <td>hominid77777</td>\n",
       "      <td>pics</td>\n",
       "      <td>-1</td>\n",
       "      <td>-1</td>\n",
       "      <td>0</td>\n",
       "      <td>2015-06</td>\n",
       "      <td>2015-06-01 19:46:33</td>\n",
       "      <td>more of these guys in the gop would make gover...</td>\n",
       "    </tr>\n",
       "  </tbody>\n",
       "</table>\n",
       "</div>"
      ],
      "text/plain": [
       "        label                                            comment  \\\n",
       "34831       0  it may be taken from ian dury's \"spasticus aut...   \n",
       "198489      0  raiper running attack, i would restore it to i...   \n",
       "273022      0  why do you have such an expensive aug skin, bu...   \n",
       "93500       1  well that's ok, because we know for a fact tha...   \n",
       "350017      1  yeah, more climate change deniers in congress ...   \n",
       "\n",
       "               author        subreddit  score  ups  downs     date  \\\n",
       "34831   vladtheimpala        britishtv      5    5      0  2012-08   \n",
       "198489       joelxivi       darksouls2      5    5      0  2014-09   \n",
       "273022     glassofgum  globaloffensive      1    1      0  2015-02   \n",
       "93500     rassimoflom    unitedkingdom      2    2      0  2013-10   \n",
       "350017   hominid77777             pics     -1   -1      0  2015-06   \n",
       "\n",
       "                created_utc                                     parent_comment  \n",
       "34831   2012-08-22 01:41:48  yeah i just tried to forget about the name. al...  \n",
       "198489  2014-09-21 20:15:12  if you could change a single move of a weapon'...  \n",
       "273022  2015-02-09 20:34:32  cheap skins that look nice? i am new to counte...  \n",
       "93500   2013-10-14 16:19:15  police chiefs will be able to be directly recr...  \n",
       "350017  2015-06-01 19:46:33  more of these guys in the gop would make gover...  "
      ]
     },
     "execution_count": 9,
     "metadata": {},
     "output_type": "execute_result"
    }
   ],
   "source": [
    "X_train.head()"
   ]
  },
  {
   "cell_type": "code",
   "execution_count": 10,
   "metadata": {},
   "outputs": [
    {
     "data": {
      "text/plain": [
       "(0    363891\n",
       " 1    363865\n",
       " Name: label, dtype: int64,\n",
       " 0    40433\n",
       " 1    40429\n",
       " Name: label, dtype: int64,\n",
       " 0    101081\n",
       " 1    101074\n",
       " Name: label, dtype: int64)"
      ]
     },
     "execution_count": 10,
     "metadata": {},
     "output_type": "execute_result"
    }
   ],
   "source": [
    "#Checking label distribution\n",
    "X_train['label'].value_counts(), X_val['label'].value_counts(), X_test['label'].value_counts()  "
   ]
  },
  {
   "cell_type": "code",
   "execution_count": 11,
   "metadata": {},
   "outputs": [],
   "source": [
    "#preprocess textual data\n",
    "def remove_contractions(x):\n",
    "    output = []\n",
    "    for i in x.split(' '):\n",
    "        output.append(contractions.fix(i))\n",
    "    output = ' '.join(output)\n",
    "    #remove newline \n",
    "    output = re.sub(r'\\n', ' ', output)\n",
    "    # put spaces before & after punctuations to make words seprate. Like \"king?\" to \"king\", \"?\"\n",
    "    #code link - https://www.kaggle.com/code/prashantkikani/are-you-being-sarcastic-sarcasm-detection-nlp\n",
    "    output = re.sub(r\"([?!,+=—&%\\'\\\";:¿।।।|\\(\\){}\\[\\]//])\", r\" \\1 \", output)\n",
    "    # Remove more than 2 continues spaces with 1 space.\n",
    "    output = re.sub('[ ]{2,}', ' ', output).strip()\n",
    "    return output\n",
    "\n",
    "def remove_contractions_df(x):\n",
    "    for i in ['comment','parent_comment']:\n",
    "        x[i] = x[i].apply(remove_contractions)\n",
    "    return x\n",
    "\n",
    "X_train = remove_contractions_df(X_train)\n",
    "X_val = remove_contractions_df(X_val)\n",
    "X_test = remove_contractions_df(X_test)"
   ]
  },
  {
   "cell_type": "code",
   "execution_count": 12,
   "metadata": {},
   "outputs": [
    {
     "data": {
      "text/html": [
       "<div>\n",
       "<style scoped>\n",
       "    .dataframe tbody tr th:only-of-type {\n",
       "        vertical-align: middle;\n",
       "    }\n",
       "\n",
       "    .dataframe tbody tr th {\n",
       "        vertical-align: top;\n",
       "    }\n",
       "\n",
       "    .dataframe thead th {\n",
       "        text-align: right;\n",
       "    }\n",
       "</style>\n",
       "<table border=\"1\" class=\"dataframe\">\n",
       "  <thead>\n",
       "    <tr style=\"text-align: right;\">\n",
       "      <th></th>\n",
       "      <th>label</th>\n",
       "      <th>comment</th>\n",
       "      <th>author</th>\n",
       "      <th>subreddit</th>\n",
       "      <th>score</th>\n",
       "      <th>ups</th>\n",
       "      <th>downs</th>\n",
       "      <th>date</th>\n",
       "      <th>created_utc</th>\n",
       "      <th>parent_comment</th>\n",
       "    </tr>\n",
       "  </thead>\n",
       "  <tbody>\n",
       "    <tr>\n",
       "      <th>34831</th>\n",
       "      <td>0</td>\n",
       "      <td>it may be taken from ian dury ' s \" spasticus ...</td>\n",
       "      <td>vladtheimpala</td>\n",
       "      <td>britishtv</td>\n",
       "      <td>5</td>\n",
       "      <td>5</td>\n",
       "      <td>0</td>\n",
       "      <td>2012-08</td>\n",
       "      <td>2012-08-22 01:41:48</td>\n",
       "      <td>yeah i just tried to forget about the name. al...</td>\n",
       "    </tr>\n",
       "    <tr>\n",
       "      <th>198489</th>\n",
       "      <td>0</td>\n",
       "      <td>raiper running attack , i would restore it to ...</td>\n",
       "      <td>joelxivi</td>\n",
       "      <td>darksouls2</td>\n",
       "      <td>5</td>\n",
       "      <td>5</td>\n",
       "      <td>0</td>\n",
       "      <td>2014-09</td>\n",
       "      <td>2014-09-21 20:15:12</td>\n",
       "      <td>if you could change a single move of a weapon ...</td>\n",
       "    </tr>\n",
       "    <tr>\n",
       "      <th>273022</th>\n",
       "      <td>0</td>\n",
       "      <td>why do you have such an expensive aug skin , b...</td>\n",
       "      <td>glassofgum</td>\n",
       "      <td>globaloffensive</td>\n",
       "      <td>1</td>\n",
       "      <td>1</td>\n",
       "      <td>0</td>\n",
       "      <td>2015-02</td>\n",
       "      <td>2015-02-09 20:34:32</td>\n",
       "      <td>cheap skins that look nice ? i am new to count...</td>\n",
       "    </tr>\n",
       "    <tr>\n",
       "      <th>93500</th>\n",
       "      <td>1</td>\n",
       "      <td>well that is ok , because we know for a fact t...</td>\n",
       "      <td>rassimoflom</td>\n",
       "      <td>unitedkingdom</td>\n",
       "      <td>2</td>\n",
       "      <td>2</td>\n",
       "      <td>0</td>\n",
       "      <td>2013-10</td>\n",
       "      <td>2013-10-14 16:19:15</td>\n",
       "      <td>police chiefs will be able to be directly recr...</td>\n",
       "    </tr>\n",
       "    <tr>\n",
       "      <th>350017</th>\n",
       "      <td>1</td>\n",
       "      <td>yeah , more climate change deniers in congress...</td>\n",
       "      <td>hominid77777</td>\n",
       "      <td>pics</td>\n",
       "      <td>-1</td>\n",
       "      <td>-1</td>\n",
       "      <td>0</td>\n",
       "      <td>2015-06</td>\n",
       "      <td>2015-06-01 19:46:33</td>\n",
       "      <td>more of these guys in the gop would make gover...</td>\n",
       "    </tr>\n",
       "  </tbody>\n",
       "</table>\n",
       "</div>"
      ],
      "text/plain": [
       "        label                                            comment  \\\n",
       "34831       0  it may be taken from ian dury ' s \" spasticus ...   \n",
       "198489      0  raiper running attack , i would restore it to ...   \n",
       "273022      0  why do you have such an expensive aug skin , b...   \n",
       "93500       1  well that is ok , because we know for a fact t...   \n",
       "350017      1  yeah , more climate change deniers in congress...   \n",
       "\n",
       "               author        subreddit  score  ups  downs     date  \\\n",
       "34831   vladtheimpala        britishtv      5    5      0  2012-08   \n",
       "198489       joelxivi       darksouls2      5    5      0  2014-09   \n",
       "273022     glassofgum  globaloffensive      1    1      0  2015-02   \n",
       "93500     rassimoflom    unitedkingdom      2    2      0  2013-10   \n",
       "350017   hominid77777             pics     -1   -1      0  2015-06   \n",
       "\n",
       "                created_utc                                     parent_comment  \n",
       "34831   2012-08-22 01:41:48  yeah i just tried to forget about the name. al...  \n",
       "198489  2014-09-21 20:15:12  if you could change a single move of a weapon ...  \n",
       "273022  2015-02-09 20:34:32  cheap skins that look nice ? i am new to count...  \n",
       "93500   2013-10-14 16:19:15  police chiefs will be able to be directly recr...  \n",
       "350017  2015-06-01 19:46:33  more of these guys in the gop would make gover...  "
      ]
     },
     "execution_count": 12,
     "metadata": {},
     "output_type": "execute_result"
    }
   ],
   "source": [
    "X_train.head()"
   ]
  },
  {
   "cell_type": "code",
   "execution_count": 13,
   "metadata": {},
   "outputs": [],
   "source": [
    "class CFG:\n",
    "    VOCAB_SIZE = 50000\n",
    "    MAX_LEN = 40\n",
    "    EMBEDDING_DIM = 300\n",
    "    BATCH_SIZE = 1024\n",
    "    EPOCHS = 25\n",
    "    LOSS = 'binary_crossentropy'\n",
    "    OPTIMIZER = 'adam'\n"
   ]
  },
  {
   "cell_type": "code",
   "execution_count": 14,
   "metadata": {},
   "outputs": [],
   "source": [
    "#Tokenizing the data\n",
    "tokenizer = tf.keras.preprocessing.text.Tokenizer(num_words=CFG.VOCAB_SIZE, oov_token='<unk>')\n",
    "tokenizer.fit_on_texts(X_train['comment'])\n",
    "\n",
    "train_data = tokenizer.texts_to_sequences(X_train['comment'])\n",
    "train_data = tf.keras.preprocessing.sequence.pad_sequences(train_data, maxlen=CFG.MAX_LEN)\n",
    "\n",
    "val_data = tokenizer.texts_to_sequences(X_val['comment'])\n",
    "val_data = tf.keras.preprocessing.sequence.pad_sequences(val_data, maxlen=CFG.MAX_LEN)\n",
    "\n",
    "test_data = tokenizer.texts_to_sequences(X_test['comment'])\n",
    "test_data = tf.keras.preprocessing.sequence.pad_sequences(test_data, maxlen=CFG.MAX_LEN)"
   ]
  },
  {
   "cell_type": "code",
   "execution_count": 15,
   "metadata": {},
   "outputs": [],
   "source": [
    "word_index = tokenizer.word_index"
   ]
  },
  {
   "cell_type": "code",
   "execution_count": 16,
   "metadata": {},
   "outputs": [
    {
     "name": "stderr",
     "output_type": "stream",
     "text": [
      "2196017it [02:20, 15659.22it/s]"
     ]
    },
    {
     "name": "stdout",
     "output_type": "stream",
     "text": [
      "Found 2196016 word vectors.\n"
     ]
    },
    {
     "name": "stderr",
     "output_type": "stream",
     "text": [
      "\n"
     ]
    }
   ],
   "source": [
    "embeddings_index = {}\n",
    "with open('..\\\\pretrained_model\\\\glove.840B.300d.txt', encoding='utf-8') as f:\n",
    "    for line in tqdm(f):\n",
    "        values = line.split(' ')\n",
    "        word = values[0]\n",
    "        coords = np.asarray(values[1:], dtype='float32')\n",
    "        embeddings_index[word] = coords\n",
    "print('Found %s word vectors.' % len(embeddings_index))"
   ]
  },
  {
   "cell_type": "code",
   "execution_count": 18,
   "metadata": {},
   "outputs": [],
   "source": [
    "embedding_matrix = np.zeros((len(word_index) + 1, CFG.EMBEDDING_DIM))\n",
    "for word, i in word_index.items():\n",
    "    embedding_vector = embeddings_index.get(word)\n",
    "    if embedding_vector is not None:\n",
    "        # words not found in embedding index will be all-zeros.\n",
    "        embedding_matrix[i] = embedding_vector"
   ]
  },
  {
   "cell_type": "code",
   "execution_count": 21,
   "metadata": {},
   "outputs": [],
   "source": [
    "input_layer = Input(shape=(CFG.MAX_LEN,))\n",
    "embedding_layer = Embedding(input_dim=len(word_index)+1,\n",
    "                            output_dim=CFG.EMBEDDING_DIM,\n",
    "                            weights=[embedding_matrix],\n",
    "                            input_length=CFG.MAX_LEN,\n",
    "                            trainable=False)(input_layer)\n",
    "lstm_layer = LSTM(100,name='LSTM')(embedding_layer)\n",
    "dropout_layer = Dropout(0.2)(lstm_layer)\n",
    "dense_layer_1 = Dense(units=256, activation='sigmoid')(dropout_layer)\n",
    "dense_layer_2 = Dense(units=128, activation='sigmoid')(dropout_layer)\n",
    "output_layer = Dense(units=1, activation='sigmoid')(dense_layer_2)\n",
    "\n",
    "model = Model(inputs=input_layer, outputs=output_layer)\n",
    "model.compile(loss=CFG.LOSS, optimizer=CFG.OPTIMIZER, metrics=['accuracy'])"
   ]
  },
  {
   "cell_type": "code",
   "execution_count": 22,
   "metadata": {},
   "outputs": [
    {
     "name": "stdout",
     "output_type": "stream",
     "text": [
      "Model: \"model\"\n",
      "_________________________________________________________________\n",
      " Layer (type)                Output Shape              Param #   \n",
      "=================================================================\n",
      " input_3 (InputLayer)        [(None, 40)]              0         \n",
      "                                                                 \n",
      " embedding_2 (Embedding)     (None, 40, 300)           41777700  \n",
      "                                                                 \n",
      " LSTM (LSTM)                 (None, 100)               160400    \n",
      "                                                                 \n",
      " dropout (Dropout)           (None, 100)               0         \n",
      "                                                                 \n",
      " dense_1 (Dense)             (None, 128)               12928     \n",
      "                                                                 \n",
      " dense_2 (Dense)             (None, 1)                 129       \n",
      "                                                                 \n",
      "=================================================================\n",
      "Total params: 41,951,157\n",
      "Trainable params: 173,457\n",
      "Non-trainable params: 41,777,700\n",
      "_________________________________________________________________\n"
     ]
    }
   ],
   "source": [
    "model.summary()"
   ]
  },
  {
   "cell_type": "code",
   "execution_count": 23,
   "metadata": {},
   "outputs": [
    {
     "data": {
      "image/png": "[encoded data removed]",
      "text/plain": [
       "<IPython.core.display.Image object>"
      ]
     },
     "execution_count": 23,
     "metadata": {},
     "output_type": "execute_result"
    }
   ],
   "source": [
    "#plot the model\n",
    "tf.keras.utils.plot_model(model, to_file='model.png', show_shapes=True)"
   ]
  },
  {
   "cell_type": "code",
   "execution_count": 24,
   "metadata": {},
   "outputs": [
    {
     "name": "stdout",
     "output_type": "stream",
     "text": [
      "Epoch 1/25\n",
      "711/711 [==============================] - 37s 47ms/step - loss: 0.5984 - accuracy: 0.6703 - val_loss: 0.5590 - val_accuracy: 0.7097\n",
      "Epoch 2/25\n",
      "711/711 [==============================] - 33s 47ms/step - loss: 0.5512 - accuracy: 0.7154 - val_loss: 0.5416 - val_accuracy: 0.7224\n",
      "Epoch 3/25\n",
      "711/711 [==============================] - 33s 47ms/step - loss: 0.5367 - accuracy: 0.7263 - val_loss: 0.5347 - val_accuracy: 0.7288\n",
      "Epoch 4/25\n",
      "711/711 [==============================] - 33s 47ms/step - loss: 0.5274 - accuracy: 0.7337 - val_loss: 0.5330 - val_accuracy: 0.7314\n",
      "Epoch 5/25\n",
      "711/711 [==============================] - 33s 47ms/step - loss: 0.5192 - accuracy: 0.7395 - val_loss: 0.5269 - val_accuracy: 0.7336\n",
      "Epoch 6/25\n",
      "711/711 [==============================] - 33s 47ms/step - loss: 0.5126 - accuracy: 0.7442 - val_loss: 0.5271 - val_accuracy: 0.7346\n",
      "Epoch 7/25\n",
      "711/711 [==============================] - 34s 47ms/step - loss: 0.5067 - accuracy: 0.7485 - val_loss: 0.5245 - val_accuracy: 0.7361\n",
      "Epoch 8/25\n",
      "711/711 [==============================] - 34s 47ms/step - loss: 0.5012 - accuracy: 0.7525 - val_loss: 0.5257 - val_accuracy: 0.7349\n",
      "Epoch 9/25\n",
      "711/711 [==============================] - 34s 48ms/step - loss: 0.4965 - accuracy: 0.7558 - val_loss: 0.5277 - val_accuracy: 0.7348\n",
      "Epoch 10/25\n",
      "711/711 [==============================] - 34s 48ms/step - loss: 0.4910 - accuracy: 0.7594 - val_loss: 0.5253 - val_accuracy: 0.7352\n",
      "Epoch 11/25\n",
      "711/711 [==============================] - 34s 48ms/step - loss: 0.4863 - accuracy: 0.7630 - val_loss: 0.5288 - val_accuracy: 0.7353\n",
      "Epoch 12/25\n",
      "711/711 [==============================] - 34s 48ms/step - loss: 0.4818 - accuracy: 0.7655 - val_loss: 0.5263 - val_accuracy: 0.7356\n",
      "Epoch 13/25\n",
      " 57/711 [=>............................] - ETA: 29s - loss: 0.4732 - accuracy: 0.7700\n",
      "Training stopped by user.\n"
     ]
    }
   ],
   "source": [
    "try:\n",
    "    history = model.fit(train_data, X_train['label'], batch_size=CFG.BATCH_SIZE, epochs=CFG.EPOCHS, validation_data=(val_data, X_val['label']))\n",
    "except KeyboardInterrupt:\n",
    "    print('\\nTraining stopped by user.')"
   ]
  },
  {
   "cell_type": "code",
   "execution_count": 25,
   "metadata": {},
   "outputs": [
    {
     "name": "stdout",
     "output_type": "stream",
     "text": [
      "6318/6318 [==============================] - 20s 3ms/step - loss: 0.5296 - accuracy: 0.7356\n"
     ]
    },
    {
     "data": {
      "text/plain": [
       "[0.5296308994293213, 0.7355890274047852]"
      ]
     },
     "execution_count": 25,
     "metadata": {},
     "output_type": "execute_result"
    }
   ],
   "source": [
    "model.evaluate(test_data, X_test['label'])"
   ]
  }
 ],
 "metadata": {
  "interpreter": {
   "hash": "9a84e47842f0165fe77034488c6de37ed095f95a8cac18297caadb6248387245"
  },
  "kernelspec": {
   "display_name": "Python 3 (ipykernel)",
   "language": "python",
   "name": "python3"
  },
  "language_info": {
   "codemirror_mode": {
    "name": "ipython",
    "version": 3
   },
   "file_extension": ".py",
   "mimetype": "text/x-python",
   "name": "python",
   "nbconvert_exporter": "python",
   "pygments_lexer": "ipython3",
   "version": "3.10.4"
  }
 },
 "nbformat": 4,
 "nbformat_minor": 2
}
