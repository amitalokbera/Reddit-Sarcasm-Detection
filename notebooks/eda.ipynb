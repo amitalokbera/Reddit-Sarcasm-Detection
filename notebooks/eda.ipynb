{
 "cells": [
  {
   "cell_type": "code",
   "execution_count": 1,
   "metadata": {},
   "outputs": [],
   "source": [
    "import pandas as pd \n",
    "import numpy as np\n",
    "from matplotlib import pyplot as plt\n",
    "import seaborn as sns\n",
    "import warnings\n",
    "warnings.filterwarnings('ignore')"
   ]
  },
  {
   "cell_type": "code",
   "execution_count": 2,
   "metadata": {},
   "outputs": [
    {
     "data": {
      "text/plain": [
       "(1010826, 10)"
      ]
     },
     "execution_count": 2,
     "metadata": {},
     "output_type": "execute_result"
    }
   ],
   "source": [
    "#reading the dataset\n",
    "df = pd.read_csv('..\\\\dataset\\\\train-balanced-sarcasm.csv')\n",
    "df.shape"
   ]
  },
  {
   "cell_type": "code",
   "execution_count": 3,
   "metadata": {},
   "outputs": [],
   "source": [
    "#Storing the file in parquet format as it is faster to read and write\n",
    "df.to_parquet('..\\\\dataset\\\\train-balanced-sarcasm.parquet')"
   ]
  },
  {
   "cell_type": "code",
   "execution_count": 4,
   "metadata": {},
   "outputs": [
    {
     "data": {
      "text/plain": [
       "(1010826, 10)"
      ]
     },
     "execution_count": 4,
     "metadata": {},
     "output_type": "execute_result"
    }
   ],
   "source": [
    "df = pd.read_parquet('..\\\\dataset\\\\train-balanced-sarcasm.parquet')\n",
    "df.shape"
   ]
  },
  {
   "cell_type": "code",
   "execution_count": 5,
   "metadata": {},
   "outputs": [
    {
     "data": {
      "text/plain": [
       "label              0\n",
       "comment           53\n",
       "author             0\n",
       "subreddit          0\n",
       "score              0\n",
       "ups                0\n",
       "downs              0\n",
       "date               0\n",
       "created_utc        0\n",
       "parent_comment     0\n",
       "dtype: int64"
      ]
     },
     "execution_count": 5,
     "metadata": {},
     "output_type": "execute_result"
    }
   ],
   "source": [
    "df.isna().sum()"
   ]
  },
  {
   "cell_type": "markdown",
   "metadata": {},
   "source": [
    "<div class=\"alert alert-block alert-info\" style=\"font-size:14px; font-family:verdana; line-height: 1.7em;\">\n",
    "    📌 &nbsp;<b><u>Observations in Train Data:</u></b><br>\n",
    " \n",
    "* <i> There are total of <b><u>10</u></b> columns and <b><u>1,010,826</u></b> rows in <b><u>train</u></b> data.</i><br>\n",
    "* <i> There are only 53 missing values that too from comment column</i><br>\n",
    "* <i> This is a binary classification problem</i><br>\n",
    "</div>\n",
    "\n",
    "** Data has balanced and imbalanced (i.e true distribution) versions. (True ratio is about 1:100).<br>\n",
    "** The provided dataset is a balance version"
   ]
  },
  {
   "cell_type": "markdown",
   "metadata": {},
   "source": [
    "**Column Description :**\n",
    "* `label` - Contains class label 0 - Non Sarcastic | 1 - Sarcastic <br>\n",
    "Rest all of the column are self explanatory"
   ]
  },
  {
   "cell_type": "code",
   "execution_count": 8,
   "metadata": {},
   "outputs": [
    {
     "data": {
      "text/plain": [
       "['label',\n",
       " 'comment',\n",
       " 'author',\n",
       " 'subreddit',\n",
       " 'score',\n",
       " 'ups',\n",
       " 'downs',\n",
       " 'date',\n",
       " 'created_utc',\n",
       " 'parent_comment']"
      ]
     },
     "execution_count": 8,
     "metadata": {},
     "output_type": "execute_result"
    }
   ],
   "source": [
    "df.columns.to_list()"
   ]
  },
  {
   "cell_type": "code",
   "execution_count": 7,
   "metadata": {},
   "outputs": [
    {
     "data": {
      "text/html": [
       "<div>\n",
       "<style scoped>\n",
       "    .dataframe tbody tr th:only-of-type {\n",
       "        vertical-align: middle;\n",
       "    }\n",
       "\n",
       "    .dataframe tbody tr th {\n",
       "        vertical-align: top;\n",
       "    }\n",
       "\n",
       "    .dataframe thead th {\n",
       "        text-align: right;\n",
       "    }\n",
       "</style>\n",
       "<table border=\"1\" class=\"dataframe\">\n",
       "  <thead>\n",
       "    <tr style=\"text-align: right;\">\n",
       "      <th></th>\n",
       "      <th>label</th>\n",
       "      <th>comment</th>\n",
       "      <th>author</th>\n",
       "      <th>subreddit</th>\n",
       "      <th>score</th>\n",
       "      <th>ups</th>\n",
       "      <th>downs</th>\n",
       "      <th>date</th>\n",
       "      <th>created_utc</th>\n",
       "      <th>parent_comment</th>\n",
       "    </tr>\n",
       "  </thead>\n",
       "  <tbody>\n",
       "    <tr>\n",
       "      <th>0</th>\n",
       "      <td>0</td>\n",
       "      <td>NC and NH.</td>\n",
       "      <td>Trumpbart</td>\n",
       "      <td>politics</td>\n",
       "      <td>2</td>\n",
       "      <td>-1</td>\n",
       "      <td>-1</td>\n",
       "      <td>2016-10</td>\n",
       "      <td>2016-10-16 23:55:23</td>\n",
       "      <td>Yeah, I get that argument. At this point, I'd ...</td>\n",
       "    </tr>\n",
       "    <tr>\n",
       "      <th>1</th>\n",
       "      <td>0</td>\n",
       "      <td>You do know west teams play against west teams...</td>\n",
       "      <td>Shbshb906</td>\n",
       "      <td>nba</td>\n",
       "      <td>-4</td>\n",
       "      <td>-1</td>\n",
       "      <td>-1</td>\n",
       "      <td>2016-11</td>\n",
       "      <td>2016-11-01 00:24:10</td>\n",
       "      <td>The blazers and Mavericks (The wests 5 and 6 s...</td>\n",
       "    </tr>\n",
       "    <tr>\n",
       "      <th>2</th>\n",
       "      <td>0</td>\n",
       "      <td>They were underdogs earlier today, but since G...</td>\n",
       "      <td>Creepeth</td>\n",
       "      <td>nfl</td>\n",
       "      <td>3</td>\n",
       "      <td>3</td>\n",
       "      <td>0</td>\n",
       "      <td>2016-09</td>\n",
       "      <td>2016-09-22 21:45:37</td>\n",
       "      <td>They're favored to win.</td>\n",
       "    </tr>\n",
       "    <tr>\n",
       "      <th>3</th>\n",
       "      <td>0</td>\n",
       "      <td>This meme isn't funny none of the \"new york ni...</td>\n",
       "      <td>icebrotha</td>\n",
       "      <td>BlackPeopleTwitter</td>\n",
       "      <td>-8</td>\n",
       "      <td>-1</td>\n",
       "      <td>-1</td>\n",
       "      <td>2016-10</td>\n",
       "      <td>2016-10-18 21:03:47</td>\n",
       "      <td>deadass don't kill my buzz</td>\n",
       "    </tr>\n",
       "    <tr>\n",
       "      <th>4</th>\n",
       "      <td>0</td>\n",
       "      <td>I could use one of those tools.</td>\n",
       "      <td>cush2push</td>\n",
       "      <td>MaddenUltimateTeam</td>\n",
       "      <td>6</td>\n",
       "      <td>-1</td>\n",
       "      <td>-1</td>\n",
       "      <td>2016-12</td>\n",
       "      <td>2016-12-30 17:00:13</td>\n",
       "      <td>Yep can confirm I saw the tool they use for th...</td>\n",
       "    </tr>\n",
       "  </tbody>\n",
       "</table>\n",
       "</div>"
      ],
      "text/plain": [
       "   label                                            comment     author  \\\n",
       "0      0                                         NC and NH.  Trumpbart   \n",
       "1      0  You do know west teams play against west teams...  Shbshb906   \n",
       "2      0  They were underdogs earlier today, but since G...   Creepeth   \n",
       "3      0  This meme isn't funny none of the \"new york ni...  icebrotha   \n",
       "4      0                    I could use one of those tools.  cush2push   \n",
       "\n",
       "            subreddit  score  ups  downs     date          created_utc  \\\n",
       "0            politics      2   -1     -1  2016-10  2016-10-16 23:55:23   \n",
       "1                 nba     -4   -1     -1  2016-11  2016-11-01 00:24:10   \n",
       "2                 nfl      3    3      0  2016-09  2016-09-22 21:45:37   \n",
       "3  BlackPeopleTwitter     -8   -1     -1  2016-10  2016-10-18 21:03:47   \n",
       "4  MaddenUltimateTeam      6   -1     -1  2016-12  2016-12-30 17:00:13   \n",
       "\n",
       "                                      parent_comment  \n",
       "0  Yeah, I get that argument. At this point, I'd ...  \n",
       "1  The blazers and Mavericks (The wests 5 and 6 s...  \n",
       "2                            They're favored to win.  \n",
       "3                         deadass don't kill my buzz  \n",
       "4  Yep can confirm I saw the tool they use for th...  "
      ]
     },
     "execution_count": 7,
     "metadata": {},
     "output_type": "execute_result"
    }
   ],
   "source": [
    "df.head()"
   ]
  },
  {
   "cell_type": "code",
   "execution_count": 10,
   "metadata": {},
   "outputs": [
    {
     "data": {
      "text/plain": [
       "<AxesSubplot:title={'center':'Histogram of label column'}, xlabel='Label', ylabel='Frequency'>"
      ]
     },
     "execution_count": 10,
     "metadata": {},
     "output_type": "execute_result"
    },
    {
     "data": {
      "image/png": "[encoded data removed]",
      "text/plain": [
       "<Figure size 432x288 with 1 Axes>"
      ]
     },
     "metadata": {
      "needs_background": "light"
     },
     "output_type": "display_data"
    }
   ],
   "source": [
    "#plot histogram on label column \n",
    "plt.title('Histogram of label column')\n",
    "plt.xlabel('Label')\n",
    "plt.ylabel('Frequency')\n",
    "df['label'].value_counts().plot(kind='bar')"
   ]
  },
  {
   "cell_type": "code",
   "execution_count": 9,
   "metadata": {},
   "outputs": [
    {
     "data": {
      "text/plain": [
       "AskReddit                65677\n",
       "politics                 39496\n",
       "worldnews                26377\n",
       "leagueoflegends          21037\n",
       "pcmasterrace             18988\n",
       "                         ...  \n",
       "LabiaGW                      1\n",
       "Expected                     1\n",
       "AnimalsStoppingFights        1\n",
       "panderingfromtheright        1\n",
       "Pandemic                     1\n",
       "Name: subreddit, Length: 14878, dtype: int64"
      ]
     },
     "execution_count": 9,
     "metadata": {},
     "output_type": "execute_result"
    }
   ],
   "source": [
    "df['subreddit'].value_counts()"
   ]
  },
  {
   "cell_type": "markdown",
   "metadata": {},
   "source": [
    "* There are 14,878 unique subreddit present in the dataset <br>\n",
    "* We can see that most of the comments are from 'AskReddit' channel i.e 6.5%"
   ]
  },
  {
   "cell_type": "code",
   "execution_count": 14,
   "metadata": {},
   "outputs": [
    {
     "data": {
      "text/plain": [
       "256561"
      ]
     },
     "execution_count": 14,
     "metadata": {},
     "output_type": "execute_result"
    }
   ],
   "source": [
    "len(df['author'].unique())"
   ]
  },
  {
   "cell_type": "markdown",
   "metadata": {},
   "source": [
    "Only 250K+ unique authors are present in the dataset, which means the dataset have multiple comments from the same authors"
   ]
  },
  {
   "cell_type": "code",
   "execution_count": 20,
   "metadata": {},
   "outputs": [
    {
     "data": {
      "text/plain": [
       "[('You forgot the', 1451),\n",
       " ('Yes', 470),\n",
       " ('you forgot the', 456),\n",
       " ('Yes.', 456),\n",
       " ('Thanks!', 396),\n",
       " ('You dropped this:', 343),\n",
       " ('No.', 342),\n",
       " ('You forgot your', 329),\n",
       " ('You forgot', 283),\n",
       " ('No', 277)]"
      ]
     },
     "execution_count": 20,
     "metadata": {},
     "output_type": "execute_result"
    }
   ],
   "source": [
    "#Checking if any comments is duplicate \n",
    "comment_counts = df['comment'].value_counts().to_dict()\n",
    "#get top 10 most frequent comments\n",
    "comment_counts = sorted(comment_counts.items(), key=lambda x: x[1], reverse=True)[:10]\n",
    "comment_counts"
   ]
  },
  {
   "cell_type": "markdown",
   "metadata": {},
   "source": [
    "* Here we can see that many came comments are repeated multiple, So at the time of data preprocessing we can drop these repeated comments, so our model doesnt get overfit"
   ]
  },
  {
   "cell_type": "code",
   "execution_count": 43,
   "metadata": {},
   "outputs": [
    {
     "data": {
      "text/plain": [
       "<AxesSubplot:ylabel='Density'>"
      ]
     },
     "execution_count": 43,
     "metadata": {},
     "output_type": "execute_result"
    },
    {
     "data": {
      "image/png": "[encoded data removed]",
      "text/plain": [
       "<Figure size 432x288 with 1 Axes>"
      ]
     },
     "metadata": {
      "needs_background": "light"
     },
     "output_type": "display_data"
    }
   ],
   "source": [
    "#no of words in each comment\n",
    "comment_length = [len(x) for x in df['comment'].str.split(' ') if x != None]\n",
    "sns.distplot(comment_length)"
   ]
  },
  {
   "cell_type": "code",
   "execution_count": 44,
   "metadata": {},
   "outputs": [
    {
     "data": {
      "text/plain": [
       "<AxesSubplot:ylabel='Density'>"
      ]
     },
     "execution_count": 44,
     "metadata": {},
     "output_type": "execute_result"
    },
    {
     "data": {
      "image/png": "[encoded data removed]",
      "text/plain": [
       "<Figure size 432x288 with 1 Axes>"
      ]
     },
     "metadata": {
      "needs_background": "light"
     },
     "output_type": "display_data"
    }
   ],
   "source": [
    "#Focusing between 0 - 250 words\n",
    "comment_length = [len(x) for x in df['comment'].str.split(' ') if x != None and len(x) < 250]\n",
    "sns.distplot(comment_length)"
   ]
  },
  {
   "cell_type": "markdown",
   "metadata": {},
   "source": [
    "* Here we can see that most of the comments have less than 50 words in it "
   ]
  },
  {
   "cell_type": "code",
   "execution_count": 45,
   "metadata": {},
   "outputs": [
    {
     "name": "stdout",
     "output_type": "stream",
     "text": [
      "0 1.0\n",
      "10 3.0\n",
      "20 4.0\n",
      "30 6.0\n",
      "40 7.0\n",
      "50 9.0\n",
      "60 10.0\n",
      "70 12.0\n",
      "80 15.0\n",
      "90 20.0\n",
      "100 242.0\n"
     ]
    }
   ],
   "source": [
    "#Percentile on comment length\n",
    "for i in range(0,110,10):\n",
    "    print(i, np.percentile(comment_length, i))"
   ]
  },
  {
   "cell_type": "code",
   "execution_count": 46,
   "metadata": {},
   "outputs": [
    {
     "name": "stdout",
     "output_type": "stream",
     "text": [
      "90 20.0\n",
      "91 21.0\n",
      "92 22.0\n",
      "93 23.0\n",
      "94 24.0\n",
      "95 25.0\n",
      "96 27.0\n",
      "97 29.0\n",
      "98 32.0\n",
      "99 38.0\n",
      "100 242.0\n"
     ]
    }
   ],
   "source": [
    "#Percentile on comment length\n",
    "for i in range(90,101):\n",
    "    print(i, np.percentile(comment_length, i))"
   ]
  },
  {
   "cell_type": "markdown",
   "metadata": {},
   "source": [
    "* So at the preprocessing step we could pad all of our sentence to 40 words, as 99% of comments have less than 38 words in it\n",
    "* This would result in faster training and also save us excess GPU and RAM usage"
   ]
  },
  {
   "cell_type": "code",
   "execution_count": 27,
   "metadata": {},
   "outputs": [
    {
     "data": {
      "text/plain": [
       "(-507, 9070)"
      ]
     },
     "execution_count": 27,
     "metadata": {},
     "output_type": "execute_result"
    }
   ],
   "source": [
    "df['score'].min() , df['score'].max()"
   ]
  },
  {
   "cell_type": "markdown",
   "metadata": {},
   "source": [
    "* Over here score columns varies from -507 to 9070. Usually the comments which are insensitive or irrelevant gets down voted in the reddit, So score could be the imp factor over here"
   ]
  },
  {
   "cell_type": "code",
   "execution_count": 30,
   "metadata": {},
   "outputs": [
    {
     "data": {
      "text/plain": [
       "<AxesSubplot:xlabel='ups', ylabel='Density'>"
      ]
     },
     "execution_count": 30,
     "metadata": {},
     "output_type": "execute_result"
    },
    {
     "data": {
      "image/png": "[encoded data removed]",
      "text/plain": [
       "<Figure size 432x288 with 1 Axes>"
      ]
     },
     "metadata": {
      "needs_background": "light"
     },
     "output_type": "display_data"
    }
   ],
   "source": [
    "#plot sns distribuition on ups column\n",
    "sns.distplot(df['ups'])"
   ]
  },
  {
   "cell_type": "code",
   "execution_count": 47,
   "metadata": {},
   "outputs": [
    {
     "name": "stdout",
     "output_type": "stream",
     "text": [
      "0 -507.0\n",
      "10 -1.0\n",
      "20 -1.0\n",
      "30 1.0\n",
      "40 1.0\n",
      "50 1.0\n",
      "60 2.0\n",
      "70 3.0\n",
      "80 5.0\n",
      "90 10.0\n",
      "100 5163.0\n"
     ]
    }
   ],
   "source": [
    "#percentile on ups column\n",
    "for i in range(0,110,10):\n",
    "    print(i, np.percentile(df['ups'], i))"
   ]
  },
  {
   "cell_type": "markdown",
   "metadata": {},
   "source": [
    "* Here the ups columns consist some negative sample, which could be consider as wrong point as ups columns should only consist positive number, so we could set those points as NaN at preprocessing step"
   ]
  },
  {
   "cell_type": "code",
   "execution_count": 31,
   "metadata": {},
   "outputs": [
    {
     "data": {
      "text/plain": [
       "<AxesSubplot:xlabel='downs', ylabel='Density'>"
      ]
     },
     "execution_count": 31,
     "metadata": {},
     "output_type": "execute_result"
    },
    {
     "data": {
      "image/png": "[encoded data removed]",
      "text/plain": [
       "<Figure size 432x288 with 1 Axes>"
      ]
     },
     "metadata": {
      "needs_background": "light"
     },
     "output_type": "display_data"
    }
   ],
   "source": [
    "#plot sns distribuition on downs column\n",
    "sns.distplot(df['downs'])"
   ]
  },
  {
   "cell_type": "code",
   "execution_count": 48,
   "metadata": {},
   "outputs": [
    {
     "name": "stdout",
     "output_type": "stream",
     "text": [
      "0 -1.0\n",
      "10 -1.0\n",
      "20 0.0\n",
      "30 0.0\n",
      "40 0.0\n",
      "50 0.0\n",
      "60 0.0\n",
      "70 0.0\n",
      "80 0.0\n",
      "90 0.0\n",
      "100 0.0\n"
     ]
    }
   ],
   "source": [
    "#percentile on downs column\n",
    "for i in range(0,110,10):\n",
    "    print(i, np.percentile(df['downs'], i))"
   ]
  },
  {
   "cell_type": "markdown",
   "metadata": {},
   "source": [
    "* There are no outliers present in the downs columns, as all the points are less than or equal to 0"
   ]
  },
  {
   "cell_type": "code",
   "execution_count": 50,
   "metadata": {},
   "outputs": [
    {
     "data": {
      "text/plain": [
       "<AxesSubplot:ylabel='Density'>"
      ]
     },
     "execution_count": 50,
     "metadata": {},
     "output_type": "execute_result"
    },
    {
     "data": {
      "image/png": "[encoded data removed]",
      "text/plain": [
       "<Figure size 432x288 with 1 Axes>"
      ]
     },
     "metadata": {
      "needs_background": "light"
     },
     "output_type": "display_data"
    }
   ],
   "source": [
    "#no of words in each parent_comment\n",
    "comment_length = [len(x) for x in df['parent_comment'].str.split(' ') if x != None]\n",
    "sns.distplot(comment_length)"
   ]
  },
  {
   "cell_type": "code",
   "execution_count": 51,
   "metadata": {},
   "outputs": [
    {
     "data": {
      "text/plain": [
       "<AxesSubplot:ylabel='Density'>"
      ]
     },
     "execution_count": 51,
     "metadata": {},
     "output_type": "execute_result"
    },
    {
     "data": {
      "image/png": "[encoded data removed]",
      "text/plain": [
       "<Figure size 432x288 with 1 Axes>"
      ]
     },
     "metadata": {
      "needs_background": "light"
     },
     "output_type": "display_data"
    }
   ],
   "source": [
    "#Focusing between 0 - 500 words\n",
    "comment_length = [len(x) for x in df['parent_comment'].str.split(' ') if x != None and len(x) < 500]\n",
    "sns.distplot(comment_length)"
   ]
  },
  {
   "cell_type": "code",
   "execution_count": 52,
   "metadata": {},
   "outputs": [
    {
     "name": "stdout",
     "output_type": "stream",
     "text": [
      "0 1.0\n",
      "10 4.0\n",
      "20 7.0\n",
      "30 9.0\n",
      "40 11.0\n",
      "50 14.0\n",
      "60 17.0\n",
      "70 23.0\n",
      "80 32.0\n",
      "90 51.0\n",
      "100 499.0\n"
     ]
    }
   ],
   "source": [
    "#Percentile on parent_comment length\n",
    "for i in range(0,110,10):\n",
    "    print(i, np.percentile(comment_length, i))"
   ]
  },
  {
   "cell_type": "markdown",
   "metadata": {},
   "source": [
    "* parent_comment also follow the similar pattern as compare to comment columns, so we could also pad the parent column to certain threshold to reduce the computational resource"
   ]
  },
  {
   "cell_type": "markdown",
   "metadata": {},
   "source": [
    "### Problem Statement - \n",
    "We want an ML model to predict whether the given comment is sarcastic or not\n"
   ]
  },
  {
   "cell_type": "markdown",
   "metadata": {},
   "source": [
    "### What is our Ideal Outcome?\n",
    "Our ideal outcome is to classify the comment whether it is sarcastic or not, and later on, we could use and expand this model to another problem statement such as classifying spam comments/ bots comment, classifying political / hate speech / controversial comments/racists comment, etc. <br>\n",
    "The ideal outcome is to make the comment section cleaner and more useful and entertaining to the user.\n"
   ]
  },
  {
   "cell_type": "markdown",
   "metadata": {},
   "source": [
    "### How will you know if your system has succeeded or failed?\n",
    "A success metric is the user engagement in the comment section. If more people are commenting on the post, then it means more people are engaging on the site i.e visitor time of the site increases. Failure means the reduction of comments on posts after serving the model ex - due to incorrect classification of the comment."
   ]
  },
  {
   "cell_type": "markdown",
   "metadata": {},
   "source": [
    "### How we can use this model in production setting?\n",
    "We’ll predict the comment when the user posts it. This outcome will help us to determine where to rank this comment. In Reddit, the comments are usually sorted to user preference usually by time or by most votes, if nothing is selected then it is sorted by votes. So let's consider a scenario where multiple user posts comments and none of the comments have any upvotes. So over here we can rank them according to Most sarcastic comments to least sarcastic comments. Note - This approach might only apply to certain subreddit, where humor or jokes is the theme of the subreddit. We could also identify the subreddit genre, by building a simple NLP model which reads the subreddit info section and identity whether this subreddit is about jokes/ memes/ etc or not"
   ]
  }
 ],
 "metadata": {
  "interpreter": {
   "hash": "1ee35fee7a4a32917453ae40a9fd6046ca6cd201435ed5aec914c768291f33ce"
  },
  "kernelspec": {
   "display_name": "Python 3 (ipykernel)",
   "language": "python",
   "name": "python3"
  },
  "language_info": {
   "codemirror_mode": {
    "name": "ipython",
    "version": 3
   },
   "file_extension": ".py",
   "mimetype": "text/x-python",
   "name": "python",
   "nbconvert_exporter": "python",
   "pygments_lexer": "ipython3",
   "version": "3.10.4"
  }
 },
 "nbformat": 4,
 "nbformat_minor": 2
}
